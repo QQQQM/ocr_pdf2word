{
 "cells": [
  {
   "cell_type": "code",
   "execution_count": 7,
   "metadata": {},
   "outputs": [],
   "source": [
    "import os"
   ]
  },
  {
   "cell_type": "code",
   "execution_count": 9,
   "metadata": {},
   "outputs": [
    {
     "data": {
      "text/plain": [
       "4"
      ]
     },
     "execution_count": 9,
     "metadata": {},
     "output_type": "execute_result"
    }
   ],
   "source": [
    "pdfname = \"D:/pdf2word/test_file/pdf/1.pdf\"\n",
    "imgname = \"D:/pdf2word/test_file/img/out/1.png\"\n",
    "os.system(\"convert -geometry 1600x1600 -density 200x200 -quality 100 \"+ pdfname + imgname)\n",
    "# \"convert -geometry 1600x1600 -density 200x200 -quality 100 D:/pdf2word/test_file/pdf/1.pdf D:/pdf2word/test_file/img/out/1.png"
   ]
  },
  {
   "cell_type": "code",
   "execution_count": 2,
   "metadata": {},
   "outputs": [],
   "source": [
    "import subprocess\n",
    "import ghostscript\n",
    "from wand.image import Image\n",
    "\n",
    "pdf_folder='D:/pdf2word/test_file/pdf/1.pdf'\n",
    "img_folder='D:/pdf2word/test_file/img/2'\n"
   ]
  },
  {
   "cell_type": "code",
   "execution_count": 4,
   "metadata": {},
   "outputs": [
    {
     "data": {
      "text/plain": [
       "0"
      ]
     },
     "execution_count": 4,
     "metadata": {},
     "output_type": "execute_result"
    }
   ],
   "source": [
    "subprocess.call('pdfimages.exe -png D:/pdf2word/test_file/pdf/1.pdf D:/pdf2word/test_file/img/2', shell=True)"
   ]
  }
 ],
 "metadata": {
  "kernelspec": {
   "display_name": "Python 3",
   "language": "python",
   "name": "python3"
  },
  "language_info": {
   "codemirror_mode": {
    "name": "ipython",
    "version": 3
   },
   "file_extension": ".py",
   "mimetype": "text/x-python",
   "name": "python",
   "nbconvert_exporter": "python",
   "pygments_lexer": "ipython3",
   "version": "3.6.4"
  }
 },
 "nbformat": 4,
 "nbformat_minor": 2
}
