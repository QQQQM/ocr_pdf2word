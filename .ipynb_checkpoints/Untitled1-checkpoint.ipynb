{
 "cells": [
  {
   "cell_type": "code",
   "execution_count": 7,
   "metadata": {},
   "outputs": [],
   "source": [
    "import os"
   ]
  },
  {
   "cell_type": "code",
   "execution_count": null,
   "metadata": {},
   "outputs": [],
   "source": [
    "cmd = (\n",
    "    \"source ~/.bash_profile; \"\n",
    "    \"convert \"\n",
    "    \"-limit thread 1 {} \"\n",
    "    \"-background white \"\n",
    "    \"-alpha remove \"\n",
    "    \"-colorspace RGB  \"\n",
    "    \"-colorspace sRGB \"\n",
    "    \"D:/pdf2word/test_file/img/out/out.jpg\"\n",
    ").format(pdfname)"
   ]
  },
  {
   "cell_type": "code",
   "execution_count": 9,
   "metadata": {},
   "outputs": [
    {
     "data": {
      "text/plain": [
       "4"
      ]
     },
     "execution_count": 9,
     "metadata": {},
     "output_type": "execute_result"
    }
   ],
   "source": [
    "pdfname = \"D:/pdf2word/test_file/pdf/1.pdf\"\n",
    "imgname = \"D:/pdf2word/test_file/img/out/1.png\"\n",
    "os.system(\"convert -geometry 1600x1600 -density 200x200 -quality 100 \"+ pdfname + imgname)\n",
    "# \"convert -geometry 1600x1600 -density 200x200 -quality 100 D:/pdf2word/test_file/pdf/1.pdf D:/pdf2word/test_file/img/out/1.png"
   ]
  }
 ],
 "metadata": {
  "kernelspec": {
   "display_name": "Python 3",
   "language": "python",
   "name": "python3"
  },
  "language_info": {
   "codemirror_mode": {
    "name": "ipython",
    "version": 3
   },
   "file_extension": ".py",
   "mimetype": "text/x-python",
   "name": "python",
   "nbconvert_exporter": "python",
   "pygments_lexer": "ipython3",
   "version": "3.6.4"
  }
 },
 "nbformat": 4,
 "nbformat_minor": 2
}
